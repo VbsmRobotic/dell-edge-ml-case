{
  "nbformat": 4,
  "nbformat_minor": 0,
  "metadata": {
    "colab": {
      "provenance": [],
      "gpuType": "T4",
      "authorship_tag": "ABX9TyMS3V1F5hzjixtdQDH9o3c7",
      "include_colab_link": true
    },
    "kernelspec": {
      "name": "python3",
      "display_name": "Python 3"
    },
    "language_info": {
      "name": "python"
    },
    "accelerator": "GPU"
  },
  "cells": [
    {
      "cell_type": "markdown",
      "metadata": {
        "id": "view-in-github",
        "colab_type": "text"
      },
      "source": [
        "<a href=\"https://colab.research.google.com/github/VbsmRobotic/dell-edge-ml-case/blob/main/Edge_Telemetry_Anomaly_Detection_Dell_CaseStudy.ipynb\" target=\"_parent\"><img src=\"https://colab.research.google.com/assets/colab-badge.svg\" alt=\"Open In Colab\"/></a>"
      ]
    },
    {
      "cell_type": "markdown",
      "source": [
        "# Edge_Telemetry_Anomaly_Detection"
      ],
      "metadata": {
        "id": "OjZRtcyleVyj"
      }
    },
    {
      "cell_type": "markdown",
      "source": [
        "# Load a specific CSV file from Google Drive"
      ],
      "metadata": {
        "id": "_aB-ISA001ps"
      }
    },
    {
      "cell_type": "markdown",
      "source": [],
      "metadata": {
        "id": "P0mZkSSoeVUQ"
      }
    },
    {
      "cell_type": "code",
      "source": [
        "# Install gdown to enable file downloading from Google Drive\n",
        "!pip install -q gdown\n",
        "\n",
        "# Import required libraries\n",
        "import os                   # Provides utilities for interacting with the operating system\n",
        "import pandas as pd         # Used for reading and analyzing CSV data\n",
        "import gdown                # Simplifies downloading files from Google Drive\n",
        "\n",
        "# Define constants\n",
        "# FILE_ID = \"https://drive.google.com/file/d/1f1SA_MzgA9kwSBvs-stfyGzJE1yPaLsd/view?usp=sharing\"  # Unique ID of the CSV file hosted on Google Drive\n",
        "FILE_ID = \"1f1SA_MzgA9kwSBvs-stfyGzJE1yPaLsd\"  # Unique ID of the CSV file hosted on Google Drive\n",
        "CSV_FILE = \"2025-01-03.csv\"                    # Local filename to save the downloaded CSV\n",
        "\n",
        "# Download the file from Google Drive using gdown\n",
        "print(f\"Downloading CSV file with ID: {FILE_ID}\")\n",
        "\n",
        "# gdown will handle the URL generation and download the file to the given path\n",
        "gdown.download(id=FILE_ID, output=CSV_FILE, quiet=False)\n",
        "\n",
        "# Step 1: Read and print the header line from the CSV file\n",
        "try:\n",
        "    with open(CSV_FILE, 'r') as f:\n",
        "        header_line = f.readline().strip()  # Read the first line and remove trailing newline characters\n",
        "        print(\"\\nCSV Header:\\n\", header_line)  # Display the CSV header\n",
        "except Exception as e:\n",
        "    print(f\"Error reading header: {e}\")  # Catch any error in reading the file and print it\n",
        "\n",
        "# Step 2: Initialize an empty dictionary to store summary statistics\n",
        "summary = {}\n",
        "\n",
        "# Step 3: Try loading the full CSV file and analyzing its contents\n",
        "try:\n",
        "    # Load the CSV file into a DataFrame using pandas\n",
        "    df = pd.read_csv(CSV_FILE)\n",
        "    print(f\"\\nCSV loaded successfully with {len(df)} rows.\")  # Print total number of rows in the CSV\n",
        "\n",
        "    # Check if necessary columns exist in the file\n",
        "    required_columns = {'failure', 'model'}\n",
        "    if not required_columns.issubset(df.columns):\n",
        "        # If either 'failure' or 'model' columns are missing, raise an error\n",
        "        raise ValueError(f\"Missing required columns: {required_columns - set(df.columns)}\")\n",
        "\n",
        "    # 🔧 Ensure failure column is clean and correctly typed\n",
        "    df['failure'] = pd.to_numeric(df['failure'], errors='coerce').fillna(0).astype(int)\n",
        "\n",
        "    # Filter the rows where 'failure' is equal to 1 (indicating a failure event)\n",
        "    failure_rows = df[df['failure'] == 1].copy()  # Copy to avoid SettingWithCopyWarning\n",
        "\n",
        "    # Add a column indicating the actual CSV file line number (including header)\n",
        "    failure_rows['csv_line_number'] = failure_rows.index + 2  # +1 for 0-based index, +1 for header\n",
        "\n",
        "    # Optional: Show a preview of the first few failure rows for inspection\n",
        "    if not failure_rows.empty:\n",
        "        print(\"\\nPreview of failure rows with CSV line numbers:\")\n",
        "        print(failure_rows[['csv_line_number', 'date', 'serial_number', 'model']].head())  # Display preview\n",
        "\n",
        "except Exception as e:\n",
        "    # If any error occurs during loading or processing, capture it in the summary\n",
        "    summary = {\"error\": str(e)}\n"
      ],
      "metadata": {
        "colab": {
          "base_uri": "https://localhost:8080/"
        },
        "id": "GDKhEa3-cz2_",
        "outputId": "b4dedb44-cccc-4557-fa2f-b6a304ac6245"
      },
      "execution_count": 1,
      "outputs": [
        {
          "output_type": "stream",
          "name": "stdout",
          "text": [
            "Downloading CSV file with ID: 1f1SA_MzgA9kwSBvs-stfyGzJE1yPaLsd\n"
          ]
        },
        {
          "output_type": "stream",
          "name": "stderr",
          "text": [
            "Downloading...\n",
            "From (original): https://drive.google.com/uc?id=1f1SA_MzgA9kwSBvs-stfyGzJE1yPaLsd\n",
            "From (redirected): https://drive.google.com/uc?id=1f1SA_MzgA9kwSBvs-stfyGzJE1yPaLsd&confirm=t&uuid=58981190-1c8c-4a56-9b75-4d31c9553f6c\n",
            "To: /content/2025-01-03.csv\n",
            "100%|██████████| 119M/119M [00:00<00:00, 154MB/s]\n"
          ]
        },
        {
          "output_type": "stream",
          "name": "stdout",
          "text": [
            "\n",
            "CSV Header:\n",
            " date,serial_number,model,capacity_bytes,failure,datacenter,cluster_id,vault_id,pod_id,pod_slot_num,is_legacy_format,smart_1_normalized,smart_1_raw,smart_2_normalized,smart_2_raw,smart_3_normalized,smart_3_raw,smart_4_normalized,smart_4_raw,smart_5_normalized,smart_5_raw,smart_7_normalized,smart_7_raw,smart_8_normalized,smart_8_raw,smart_9_normalized,smart_9_raw,smart_10_normalized,smart_10_raw,smart_11_normalized,smart_11_raw,smart_12_normalized,smart_12_raw,smart_13_normalized,smart_13_raw,smart_15_normalized,smart_15_raw,smart_16_normalized,smart_16_raw,smart_17_normalized,smart_17_raw,smart_18_normalized,smart_18_raw,smart_22_normalized,smart_22_raw,smart_23_normalized,smart_23_raw,smart_24_normalized,smart_24_raw,smart_27_normalized,smart_27_raw,smart_71_normalized,smart_71_raw,smart_82_normalized,smart_82_raw,smart_90_normalized,smart_90_raw,smart_160_normalized,smart_160_raw,smart_161_normalized,smart_161_raw,smart_163_normalized,smart_163_raw,smart_164_normalized,smart_164_raw,smart_165_normalized,smart_165_raw,smart_166_normalized,smart_166_raw,smart_167_normalized,smart_167_raw,smart_168_normalized,smart_168_raw,smart_169_normalized,smart_169_raw,smart_170_normalized,smart_170_raw,smart_171_normalized,smart_171_raw,smart_172_normalized,smart_172_raw,smart_173_normalized,smart_173_raw,smart_174_normalized,smart_174_raw,smart_175_normalized,smart_175_raw,smart_176_normalized,smart_176_raw,smart_177_normalized,smart_177_raw,smart_178_normalized,smart_178_raw,smart_179_normalized,smart_179_raw,smart_180_normalized,smart_180_raw,smart_181_normalized,smart_181_raw,smart_182_normalized,smart_182_raw,smart_183_normalized,smart_183_raw,smart_184_normalized,smart_184_raw,smart_187_normalized,smart_187_raw,smart_188_normalized,smart_188_raw,smart_189_normalized,smart_189_raw,smart_190_normalized,smart_190_raw,smart_191_normalized,smart_191_raw,smart_192_normalized,smart_192_raw,smart_193_normalized,smart_193_raw,smart_194_normalized,smart_194_raw,smart_195_normalized,smart_195_raw,smart_196_normalized,smart_196_raw,smart_197_normalized,smart_197_raw,smart_198_normalized,smart_198_raw,smart_199_normalized,smart_199_raw,smart_200_normalized,smart_200_raw,smart_201_normalized,smart_201_raw,smart_202_normalized,smart_202_raw,smart_206_normalized,smart_206_raw,smart_210_normalized,smart_210_raw,smart_211_normalized,smart_211_raw,smart_212_normalized,smart_212_raw,smart_218_normalized,smart_218_raw,smart_220_normalized,smart_220_raw,smart_222_normalized,smart_222_raw,smart_223_normalized,smart_223_raw,smart_224_normalized,smart_224_raw,smart_225_normalized,smart_225_raw,smart_226_normalized,smart_226_raw,smart_230_normalized,smart_230_raw,smart_231_normalized,smart_231_raw,smart_232_normalized,smart_232_raw,smart_233_normalized,smart_233_raw,smart_234_normalized,smart_234_raw,smart_235_normalized,smart_235_raw,smart_240_normalized,smart_240_raw,smart_241_normalized,smart_241_raw,smart_242_normalized,smart_242_raw,smart_244_normalized,smart_244_raw,smart_245_normalized,smart_245_raw,smart_246_normalized,smart_246_raw,smart_247_normalized,smart_247_raw,smart_248_normalized,smart_248_raw,smart_250_normalized,smart_250_raw,smart_251_normalized,smart_251_raw,smart_252_normalized,smart_252_raw,smart_254_normalized,smart_254_raw,smart_255_normalized,smart_255_raw\n",
            "\n",
            "CSV loaded successfully with 304848 rows.\n",
            "\n",
            "Preview of failure rows with CSV line numbers:\n",
            "       csv_line_number        date serial_number                 model\n",
            "10043            10045  2025-01-03      ZA13YGA6           ST8000DM002\n",
            "25786            25788  2025-01-03      5PHPE36D  HGST HUH721212ALE604\n",
            "29205            29207  2025-01-03      5PHKT8WD  HGST HUH721212ALE604\n",
            "30408            30410  2025-01-03      5PHKUVDD  HGST HUH721212ALE604\n",
            "34166            34168  2025-01-03  X8E0A01KF97G   TOSHIBA MG07ACA14TA\n"
          ]
        }
      ]
    }
  ]
}