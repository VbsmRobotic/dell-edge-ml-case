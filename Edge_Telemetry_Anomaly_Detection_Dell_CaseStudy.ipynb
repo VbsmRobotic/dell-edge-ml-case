{
  "nbformat": 4,
  "nbformat_minor": 0,
  "metadata": {
    "colab": {
      "provenance": [],
      "authorship_tag": "ABX9TyNlu1xF9Rjx+So4EsFasLT3",
      "include_colab_link": true
    },
    "kernelspec": {
      "name": "python3",
      "display_name": "Python 3"
    },
    "language_info": {
      "name": "python"
    }
  },
  "cells": [
    {
      "cell_type": "markdown",
      "metadata": {
        "id": "view-in-github",
        "colab_type": "text"
      },
      "source": [
        "<a href=\"https://colab.research.google.com/github/VbsmRobotic/dell-edge-ml-case/blob/main/Edge_Telemetry_Anomaly_Detection_Dell_CaseStudy.ipynb\" target=\"_parent\"><img src=\"https://colab.research.google.com/assets/colab-badge.svg\" alt=\"Open In Colab\"/></a>"
      ]
    },
    {
      "cell_type": "markdown",
      "source": [
        "# Edge_Telemetry_Anomaly_Detection"
      ],
      "metadata": {
        "id": "OjZRtcyleVyj"
      }
    },
    {
      "cell_type": "code",
      "execution_count": 1,
      "metadata": {
        "id": "UXhbPCtxv6MW"
      },
      "outputs": [],
      "source": [
        "import zipfile"
      ]
    },
    {
      "cell_type": "markdown",
      "source": [],
      "metadata": {
        "id": "P0mZkSSoeVUQ"
      }
    }
  ]
}